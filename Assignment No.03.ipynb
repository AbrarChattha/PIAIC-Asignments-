{
 "cells": [
  {
   "cell_type": "markdown",
   "metadata": {},
   "source": [
    "# Roll No.55472"
   ]
  },
  {
   "cell_type": "markdown",
   "metadata": {},
   "source": [
    "# Task 1"
   ]
  },
  {
   "cell_type": "code",
   "execution_count": 1,
   "metadata": {},
   "outputs": [
    {
     "name": "stdout",
     "output_type": "stream",
     "text": [
      "Enter Your Name:Arslan\n",
      "Enter Roll No:55472\n"
     ]
    },
    {
     "ename": "TypeError",
     "evalue": "can only concatenate str (not \"int\") to str",
     "output_type": "error",
     "traceback": [
      "\u001b[1;31m---------------------------------------------------------------------------\u001b[0m",
      "\u001b[1;31mTypeError\u001b[0m                                 Traceback (most recent call last)",
      "\u001b[1;32m<ipython-input-1-70af5322353d>\u001b[0m in \u001b[0;36m<module>\u001b[1;34m\u001b[0m\n\u001b[0;32m      2\u001b[0m \u001b[0mroll_num\u001b[0m \u001b[1;33m=\u001b[0m \u001b[0mint\u001b[0m\u001b[1;33m(\u001b[0m\u001b[0minput\u001b[0m\u001b[1;33m(\u001b[0m\u001b[1;34m'Enter Roll No:'\u001b[0m\u001b[1;33m)\u001b[0m\u001b[1;33m)\u001b[0m\u001b[1;33m\u001b[0m\u001b[1;33m\u001b[0m\u001b[0m\n\u001b[0;32m      3\u001b[0m \u001b[1;33m\u001b[0m\u001b[0m\n\u001b[1;32m----> 4\u001b[1;33m \u001b[0muser_info\u001b[0m \u001b[1;33m=\u001b[0m \u001b[0mname\u001b[0m \u001b[1;33m+\u001b[0m \u001b[0mroll_num\u001b[0m\u001b[1;33m\u001b[0m\u001b[1;33m\u001b[0m\u001b[0m\n\u001b[0m\u001b[0;32m      5\u001b[0m \u001b[1;33m\u001b[0m\u001b[0m\n\u001b[0;32m      6\u001b[0m \u001b[0mmyDict_1\u001b[0m \u001b[1;33m=\u001b[0m \u001b[1;33m{\u001b[0m\u001b[1;33m}\u001b[0m\u001b[1;33m\u001b[0m\u001b[1;33m\u001b[0m\u001b[0m\n",
      "\u001b[1;31mTypeError\u001b[0m: can only concatenate str (not \"int\") to str"
     ]
    }
   ],
   "source": [
    "name = input('Enter Your Name:')\n",
    "roll_num = int(input('Enter Roll No:'))\n",
    "\n",
    "user_info = name + roll_num\n",
    "\n",
    "myDict_1 = {}"
   ]
  },
  {
   "cell_type": "code",
   "execution_count": 2,
   "metadata": {},
   "outputs": [
    {
     "ename": "SyntaxError",
     "evalue": "invalid syntax (<ipython-input-2-7004089f2e22>, line 2)",
     "output_type": "error",
     "traceback": [
      "\u001b[1;36m  File \u001b[1;32m\"<ipython-input-2-7004089f2e22>\"\u001b[1;36m, line \u001b[1;32m2\u001b[0m\n\u001b[1;33m    father_name = input('Enter Father's Name:')\u001b[0m\n\u001b[1;37m                                      ^\u001b[0m\n\u001b[1;31mSyntaxError\u001b[0m\u001b[1;31m:\u001b[0m invalid syntax\n"
     ]
    }
   ],
   "source": [
    "name = input('Enter Your Name:')\n",
    "father_name = input('Enter Father's Name:')\n",
    "\n",
    "user_info = name + father_name\n",
    "\n",
    "myDict_1 = {}"
   ]
  },
  {
   "cell_type": "code",
   "execution_count": 4,
   "metadata": {},
   "outputs": [
    {
     "name": "stdout",
     "output_type": "stream",
     "text": [
      "Enter Your Name:Arslan Asif\n",
      "Enter Father's Name:M. Asif\n"
     ]
    }
   ],
   "source": [
    "name = input('Enter Your Name:')\n",
    "father_name = input(\"Enter Father's Name:\")\n",
    "\n",
    "user_info = name + father_name\n",
    "\n",
    "myDict_1 = {}"
   ]
  },
  {
   "cell_type": "code",
   "execution_count": 5,
   "metadata": {},
   "outputs": [
    {
     "ename": "ValueError",
     "evalue": "dictionary update sequence element #0 has length 1; 2 is required",
     "output_type": "error",
     "traceback": [
      "\u001b[1;31m---------------------------------------------------------------------------\u001b[0m",
      "\u001b[1;31mValueError\u001b[0m                                Traceback (most recent call last)",
      "\u001b[1;32m<ipython-input-5-447e789eccff>\u001b[0m in \u001b[0;36m<module>\u001b[1;34m\u001b[0m\n\u001b[1;32m----> 1\u001b[1;33m \u001b[0mmyDict_1\u001b[0m\u001b[1;33m.\u001b[0m\u001b[0mupdate\u001b[0m\u001b[1;33m(\u001b[0m\u001b[0muser_info\u001b[0m\u001b[1;33m)\u001b[0m\u001b[1;33m\u001b[0m\u001b[1;33m\u001b[0m\u001b[0m\n\u001b[0m",
      "\u001b[1;31mValueError\u001b[0m: dictionary update sequence element #0 has length 1; 2 is required"
     ]
    }
   ],
   "source": [
    "myDict_1.update(user_info)"
   ]
  },
  {
   "cell_type": "code",
   "execution_count": 6,
   "metadata": {},
   "outputs": [
    {
     "ename": "SyntaxError",
     "evalue": "invalid syntax (<ipython-input-6-55e06b9b3db1>, line 1)",
     "output_type": "error",
     "traceback": [
      "\u001b[1;36m  File \u001b[1;32m\"<ipython-input-6-55e06b9b3db1>\"\u001b[1;36m, line \u001b[1;32m1\u001b[0m\n\u001b[1;33m    myDict_1.update{(user_info)}\u001b[0m\n\u001b[1;37m                   ^\u001b[0m\n\u001b[1;31mSyntaxError\u001b[0m\u001b[1;31m:\u001b[0m invalid syntax\n"
     ]
    }
   ],
   "source": [
    "myDict_1.update{(user_info)}"
   ]
  },
  {
   "cell_type": "code",
   "execution_count": 7,
   "metadata": {},
   "outputs": [
    {
     "ename": "SyntaxError",
     "evalue": "invalid syntax (<ipython-input-7-46d762fbb2cb>, line 1)",
     "output_type": "error",
     "traceback": [
      "\u001b[1;36m  File \u001b[1;32m\"<ipython-input-7-46d762fbb2cb>\"\u001b[1;36m, line \u001b[1;32m1\u001b[0m\n\u001b[1;33m    myDict_1.update{user_info}\u001b[0m\n\u001b[1;37m                   ^\u001b[0m\n\u001b[1;31mSyntaxError\u001b[0m\u001b[1;31m:\u001b[0m invalid syntax\n"
     ]
    }
   ],
   "source": [
    "myDict_1.update{user_info}"
   ]
  },
  {
   "cell_type": "code",
   "execution_count": 8,
   "metadata": {},
   "outputs": [
    {
     "name": "stdout",
     "output_type": "stream",
     "text": [
      "Enter First Value:23\n",
      "Enter Second Value:11\n"
     ]
    }
   ],
   "source": [
    "key_1 = int(input('Enter First Value:'))\n",
    "key_2 = int(input('Enter Second Value:'))\n",
    "myDict1 = {}"
   ]
  },
  {
   "cell_type": "code",
   "execution_count": 9,
   "metadata": {},
   "outputs": [
    {
     "ename": "SyntaxError",
     "evalue": "invalid syntax (<ipython-input-9-a2a9d2e048e6>, line 1)",
     "output_type": "error",
     "traceback": [
      "\u001b[1;36m  File \u001b[1;32m\"<ipython-input-9-a2a9d2e048e6>\"\u001b[1;36m, line \u001b[1;32m1\u001b[0m\n\u001b[1;33m    myDict1.update{key_1: key_2}\u001b[0m\n\u001b[1;37m                  ^\u001b[0m\n\u001b[1;31mSyntaxError\u001b[0m\u001b[1;31m:\u001b[0m invalid syntax\n"
     ]
    }
   ],
   "source": [
    "myDict1.update{key_1: key_2}"
   ]
  },
  {
   "cell_type": "code",
   "execution_count": 10,
   "metadata": {},
   "outputs": [
    {
     "ename": "SyntaxError",
     "evalue": "keyword can't be an expression (<ipython-input-10-d3c619c34cee>, line 1)",
     "output_type": "error",
     "traceback": [
      "\u001b[1;36m  File \u001b[1;32m\"<ipython-input-10-d3c619c34cee>\"\u001b[1;36m, line \u001b[1;32m1\u001b[0m\n\u001b[1;33m    myDict1.update([key_1]=key_2)\u001b[0m\n\u001b[1;37m                  ^\u001b[0m\n\u001b[1;31mSyntaxError\u001b[0m\u001b[1;31m:\u001b[0m keyword can't be an expression\n"
     ]
    }
   ],
   "source": [
    "myDict1.update([key_1]=key_2)"
   ]
  },
  {
   "cell_type": "code",
   "execution_count": 11,
   "metadata": {},
   "outputs": [
    {
     "ename": "SyntaxError",
     "evalue": "keyword can't be an expression (<ipython-input-11-75114c5d8020>, line 1)",
     "output_type": "error",
     "traceback": [
      "\u001b[1;36m  File \u001b[1;32m\"<ipython-input-11-75114c5d8020>\"\u001b[1;36m, line \u001b[1;32m1\u001b[0m\n\u001b[1;33m    myDict1.update(['key_1']='key_2')\u001b[0m\n\u001b[1;37m                  ^\u001b[0m\n\u001b[1;31mSyntaxError\u001b[0m\u001b[1;31m:\u001b[0m keyword can't be an expression\n"
     ]
    }
   ],
   "source": [
    "myDict1.update(['key_1']='key_2')"
   ]
  },
  {
   "cell_type": "code",
   "execution_count": 12,
   "metadata": {},
   "outputs": [
    {
     "ename": "SyntaxError",
     "evalue": "invalid syntax (<ipython-input-12-afc8305d6c88>, line 1)",
     "output_type": "error",
     "traceback": [
      "\u001b[1;36m  File \u001b[1;32m\"<ipython-input-12-afc8305d6c88>\"\u001b[1;36m, line \u001b[1;32m1\u001b[0m\n\u001b[1;33m    myDict1.update({key_1}key_2)\u001b[0m\n\u001b[1;37m                              ^\u001b[0m\n\u001b[1;31mSyntaxError\u001b[0m\u001b[1;31m:\u001b[0m invalid syntax\n"
     ]
    }
   ],
   "source": [
    "myDict1.update({key_1}key_2)"
   ]
  },
  {
   "cell_type": "code",
   "execution_count": 13,
   "metadata": {},
   "outputs": [
    {
     "ename": "SyntaxError",
     "evalue": "invalid syntax (<ipython-input-13-6430db0fd6d4>, line 1)",
     "output_type": "error",
     "traceback": [
      "\u001b[1;36m  File \u001b[1;32m\"<ipython-input-13-6430db0fd6d4>\"\u001b[1;36m, line \u001b[1;32m1\u001b[0m\n\u001b[1;33m    myDict1.update{key_1:key_2}\u001b[0m\n\u001b[1;37m                  ^\u001b[0m\n\u001b[1;31mSyntaxError\u001b[0m\u001b[1;31m:\u001b[0m invalid syntax\n"
     ]
    }
   ],
   "source": [
    "myDict1.update{key_1:key_2}"
   ]
  },
  {
   "cell_type": "code",
   "execution_count": 15,
   "metadata": {},
   "outputs": [
    {
     "ename": "SyntaxError",
     "evalue": "invalid syntax (<ipython-input-15-ba3a4a7fca13>, line 4)",
     "output_type": "error",
     "traceback": [
      "\u001b[1;36m  File \u001b[1;32m\"<ipython-input-15-ba3a4a7fca13>\"\u001b[1;36m, line \u001b[1;32m4\u001b[0m\n\u001b[1;33m    myDict1.update{key_1:key_2}\u001b[0m\n\u001b[1;37m                  ^\u001b[0m\n\u001b[1;31mSyntaxError\u001b[0m\u001b[1;31m:\u001b[0m invalid syntax\n"
     ]
    }
   ],
   "source": [
    "key_1 = int(input('Enter First Value:'))\n",
    "key_2 = int(input('Enter Second Value:'))\n",
    "myDict1 = {}\n",
    "myDict1.update{key_1:key_2}"
   ]
  },
  {
   "cell_type": "code",
   "execution_count": 16,
   "metadata": {},
   "outputs": [
    {
     "name": "stdout",
     "output_type": "stream",
     "text": [
      "Enter First Value:23\n",
      "Enter Second Value:35\n"
     ]
    }
   ],
   "source": [
    "key_1 = int(input('Enter First Value:'))\n",
    "key_2 = int(input('Enter Second Value:'))\n",
    "myDict1 = {}\n",
    "myDict1.update({key_1:key_2})"
   ]
  },
  {
   "cell_type": "code",
   "execution_count": 17,
   "metadata": {},
   "outputs": [
    {
     "name": "stdout",
     "output_type": "stream",
     "text": [
      "Enter First Value:23\n",
      "Enter Second Value:35\n",
      "{23: 35}\n"
     ]
    }
   ],
   "source": [
    "key_1 = int(input('Enter First Value:'))\n",
    "key_2 = int(input('Enter Second Value:'))\n",
    "myDict1 = {}\n",
    "myDict1.update({key_1:key_2})\n",
    "print(myDict1)"
   ]
  },
  {
   "cell_type": "markdown",
   "metadata": {},
   "source": [
    "# Task 2"
   ]
  },
  {
   "cell_type": "code",
   "execution_count": 20,
   "metadata": {},
   "outputs": [
    {
     "name": "stdout",
     "output_type": "stream",
     "text": [
      "{'Name': 'Arslan', 'Father Name': 'M. Asif', 'Roll No.': 55472}\n",
      "{'Name': 'Zaki', 'Father Name': 'M. Abbas', 'Roll No.': 66722}\n"
     ]
    }
   ],
   "source": [
    "id_1 = {\n",
    "    'Name': 'Arslan', \n",
    "    'Father Name': 'M. Asif', \n",
    "    'Roll No.': 55472\n",
    "}\n",
    "\n",
    "id_2 = {\n",
    "    'Name': 'Zaki',\n",
    "    'Father Name': 'M. Abbas', \n",
    "    'Roll No.': 66722\n",
    "}\n",
    "print(id_1)\n",
    "print(id_2)"
   ]
  },
  {
   "cell_type": "code",
   "execution_count": 21,
   "metadata": {},
   "outputs": [
    {
     "ename": "TypeError",
     "evalue": "unsupported operand type(s) for +: 'dict' and 'dict'",
     "output_type": "error",
     "traceback": [
      "\u001b[1;31m---------------------------------------------------------------------------\u001b[0m",
      "\u001b[1;31mTypeError\u001b[0m                                 Traceback (most recent call last)",
      "\u001b[1;32m<ipython-input-21-a0f90f23c1ee>\u001b[0m in \u001b[0;36m<module>\u001b[1;34m\u001b[0m\n\u001b[0;32m     10\u001b[0m     \u001b[1;34m'Roll No.'\u001b[0m\u001b[1;33m:\u001b[0m \u001b[1;36m66722\u001b[0m\u001b[1;33m\u001b[0m\u001b[1;33m\u001b[0m\u001b[0m\n\u001b[0;32m     11\u001b[0m }\n\u001b[1;32m---> 12\u001b[1;33m \u001b[0mcon\u001b[0m \u001b[1;33m=\u001b[0m \u001b[0mid_1\u001b[0m \u001b[1;33m+\u001b[0m \u001b[0mid_2\u001b[0m\u001b[1;33m\u001b[0m\u001b[1;33m\u001b[0m\u001b[0m\n\u001b[0m\u001b[0;32m     13\u001b[0m \u001b[0mprint\u001b[0m\u001b[1;33m(\u001b[0m\u001b[0mcon\u001b[0m\u001b[1;33m)\u001b[0m\u001b[1;33m\u001b[0m\u001b[1;33m\u001b[0m\u001b[0m\n",
      "\u001b[1;31mTypeError\u001b[0m: unsupported operand type(s) for +: 'dict' and 'dict'"
     ]
    }
   ],
   "source": [
    "id_1 = {\n",
    "    'Name': 'Arslan', \n",
    "    'Father Name': 'M. Asif', \n",
    "    'Roll No.': 55472\n",
    "}\n",
    "\n",
    "id_2 = {\n",
    "    'Name': 'Zaki',\n",
    "    'Father Name': 'M. Abbas', \n",
    "    'Roll No.': 66722\n",
    "}\n",
    "con = id_1 + id_2\n",
    "print(con)"
   ]
  },
  {
   "cell_type": "code",
   "execution_count": 22,
   "metadata": {},
   "outputs": [
    {
     "ename": "SyntaxError",
     "evalue": "invalid syntax (<ipython-input-22-655d75e11f00>, line 2)",
     "output_type": "error",
     "traceback": [
      "\u001b[1;36m  File \u001b[1;32m\"<ipython-input-22-655d75e11f00>\"\u001b[1;36m, line \u001b[1;32m2\u001b[0m\n\u001b[1;33m    'Name':,\u001b[0m\n\u001b[1;37m           ^\u001b[0m\n\u001b[1;31mSyntaxError\u001b[0m\u001b[1;31m:\u001b[0m invalid syntax\n"
     ]
    }
   ],
   "source": [
    "dict_1 = {\n",
    "    'Name':, \n",
    "    'Father Name':, \n",
    "    'Roll No.':\n",
    "}\n",
    "\n",
    "info = {\n",
    "    'Name': 'Zaki',\n",
    "    'Father Name': 'M. Abbas', \n",
    "    'Roll No.': 66722\n",
    "}\n",
    "print(dict_1)\n",
    "print(info)"
   ]
  },
  {
   "cell_type": "code",
   "execution_count": 23,
   "metadata": {},
   "outputs": [
    {
     "name": "stdout",
     "output_type": "stream",
     "text": [
      "{'Name': '', 'Father Name': '', 'Roll No.': ''}\n",
      "{'': 55472}\n"
     ]
    }
   ],
   "source": [
    "dict_1 = {\n",
    "    'Name':'', \n",
    "    'Father Name':'', \n",
    "    'Roll No.':''\n",
    "}\n",
    "\n",
    "info = {\n",
    "    '': 'Arslan Asif',\n",
    "    '': 'M. Asif', \n",
    "    '': 55472\n",
    "}\n",
    "print(dict_1)\n",
    "print(info)"
   ]
  },
  {
   "cell_type": "code",
   "execution_count": 26,
   "metadata": {},
   "outputs": [
    {
     "ename": "SyntaxError",
     "evalue": "invalid syntax (<ipython-input-26-609a693d7169>, line 13)",
     "output_type": "error",
     "traceback": [
      "\u001b[1;36m  File \u001b[1;32m\"<ipython-input-26-609a693d7169>\"\u001b[1;36m, line \u001b[1;32m13\u001b[0m\n\u001b[1;33m    info.update({dict_1('Name')='Zaki'})\u001b[0m\n\u001b[1;37m                               ^\u001b[0m\n\u001b[1;31mSyntaxError\u001b[0m\u001b[1;31m:\u001b[0m invalid syntax\n"
     ]
    }
   ],
   "source": [
    "dict_1 = {\n",
    "    'Name':'', \n",
    "    'Father Name':'', \n",
    "    'Roll No.':''\n",
    "}\n",
    "\n",
    "info = {\n",
    "    '': 'Arslan Asif',\n",
    "    '': 'M. Asif', \n",
    "    '': 55472\n",
    "}\n",
    "\n",
    "info.update({dict_1('Name')='Zaki'})"
   ]
  },
  {
   "cell_type": "code",
   "execution_count": 27,
   "metadata": {},
   "outputs": [
    {
     "ename": "TypeError",
     "evalue": "unhashable type: 'dict'",
     "output_type": "error",
     "traceback": [
      "\u001b[1;31m---------------------------------------------------------------------------\u001b[0m",
      "\u001b[1;31mTypeError\u001b[0m                                 Traceback (most recent call last)",
      "\u001b[1;32m<ipython-input-27-723d2afac5bc>\u001b[0m in \u001b[0;36m<module>\u001b[1;34m\u001b[0m\n\u001b[0;32m     11\u001b[0m }\n\u001b[0;32m     12\u001b[0m \u001b[1;33m\u001b[0m\u001b[0m\n\u001b[1;32m---> 13\u001b[1;33m \u001b[0mfinal_dict\u001b[0m \u001b[1;33m=\u001b[0m \u001b[0mdict_1\u001b[0m\u001b[1;33m.\u001b[0m\u001b[0mupdate\u001b[0m\u001b[1;33m(\u001b[0m\u001b[1;33m{\u001b[0m\u001b[0mdict_1\u001b[0m\u001b[1;33m:\u001b[0m\u001b[0mdict_2\u001b[0m\u001b[1;33m}\u001b[0m\u001b[1;33m)\u001b[0m\u001b[1;33m\u001b[0m\u001b[1;33m\u001b[0m\u001b[0m\n\u001b[0m",
      "\u001b[1;31mTypeError\u001b[0m: unhashable type: 'dict'"
     ]
    }
   ],
   "source": [
    "dict_1 = {\n",
    "    'Name':'Arslan', \n",
    "    'Father Name':'M.Asif', \n",
    "    'Roll No.':55472\n",
    "}\n",
    "\n",
    "dict_2 = {\n",
    "    'Name': 'Zaki',\n",
    "    'Father Name': 'M. Abbas', \n",
    "    'Roll No.': 66722\n",
    "}\n",
    "\n",
    "final_dict = dict_1.update({dict_1:dict_2})"
   ]
  },
  {
   "cell_type": "code",
   "execution_count": 29,
   "metadata": {},
   "outputs": [
    {
     "name": "stdout",
     "output_type": "stream",
     "text": [
      "{'Name': 'Zaki', 'Father Name': 'M. Abbas', 'Roll No.': 66722}\n"
     ]
    }
   ],
   "source": [
    "dict_1 = {\n",
    "    'Name':'Arslan', \n",
    "    'Father Name':'M.Asif', \n",
    "    'Roll No.':55472\n",
    "}\n",
    "\n",
    "dict_2 = {\n",
    "    'Name': 'Zaki',\n",
    "    'Father Name': 'M. Abbas', \n",
    "    'Roll No.': 66722\n",
    "}\n",
    "\n",
    "dict_1.update(dict_2)\n",
    "print(dict_1)"
   ]
  },
  {
   "cell_type": "markdown",
   "metadata": {},
   "source": [
    "# Task 3"
   ]
  },
  {
   "cell_type": "code",
   "execution_count": 33,
   "metadata": {},
   "outputs": [
    {
     "ename": "SyntaxError",
     "evalue": "invalid syntax (<ipython-input-33-753bf230358b>, line 5)",
     "output_type": "error",
     "traceback": [
      "\u001b[1;36m  File \u001b[1;32m\"<ipython-input-33-753bf230358b>\"\u001b[1;36m, line \u001b[1;32m5\u001b[0m\n\u001b[1;33m    'Batch': input('Enter Your Batch No.')\u001b[0m\n\u001b[1;37m          ^\u001b[0m\n\u001b[1;31mSyntaxError\u001b[0m\u001b[1;31m:\u001b[0m invalid syntax\n"
     ]
    }
   ],
   "source": [
    "dict_self = {\n",
    "    'Name':'Arslan', \n",
    "    'Father Name':'M.Asif', \n",
    "    'Roll No.':55472\n",
    "    'Batch': input('Enter Your Batch No.')\n",
    "}"
   ]
  },
  {
   "cell_type": "code",
   "execution_count": 36,
   "metadata": {},
   "outputs": [
    {
     "ename": "SyntaxError",
     "evalue": "invalid syntax (<ipython-input-36-1073e712472b>, line 5)",
     "output_type": "error",
     "traceback": [
      "\u001b[1;36m  File \u001b[1;32m\"<ipython-input-36-1073e712472b>\"\u001b[1;36m, line \u001b[1;32m5\u001b[0m\n\u001b[1;33m    batch = input('Enter Your Batch No.')\u001b[0m\n\u001b[1;37m          ^\u001b[0m\n\u001b[1;31mSyntaxError\u001b[0m\u001b[1;31m:\u001b[0m invalid syntax\n"
     ]
    }
   ],
   "source": [
    "dict_self = {\n",
    "    'Name':'Arslan', \n",
    "    'Father Name':'M.Asif', \n",
    "    'Roll No.':55472,\n",
    "    batch = input('Enter Your Batch No.')\n",
    "}\n"
   ]
  },
  {
   "cell_type": "code",
   "execution_count": 37,
   "metadata": {},
   "outputs": [
    {
     "ename": "SyntaxError",
     "evalue": "invalid syntax (<ipython-input-37-211b085b6754>, line 5)",
     "output_type": "error",
     "traceback": [
      "\u001b[1;36m  File \u001b[1;32m\"<ipython-input-37-211b085b6754>\"\u001b[1;36m, line \u001b[1;32m5\u001b[0m\n\u001b[1;33m    'Batch' = input('Enter Your Batch No.')\u001b[0m\n\u001b[1;37m            ^\u001b[0m\n\u001b[1;31mSyntaxError\u001b[0m\u001b[1;31m:\u001b[0m invalid syntax\n"
     ]
    }
   ],
   "source": [
    "dict_self = {\n",
    "    'Name':'Arslan', \n",
    "    'Father Name':'M.Asif', \n",
    "    'Roll No.':55472,\n",
    "    'Batch' = input('Enter Your Batch No.')\n",
    "}\n",
    "batch_chk = dict_self.key('Batch')"
   ]
  },
  {
   "cell_type": "code",
   "execution_count": 42,
   "metadata": {},
   "outputs": [
    {
     "name": "stdout",
     "output_type": "stream",
     "text": [
      "Enter Your Batch No.3\n",
      "Key isnt present in the dictionary!\n"
     ]
    }
   ],
   "source": [
    "\n",
    "dict_self = {\n",
    "    'Name':'Arslan', \n",
    "    'Father Name':'M.Asif', \n",
    "    'Roll No.':55472,\n",
    "    'Batch': 3\n",
    "}\n",
    "key_chk = input('Enter Your Batch No.')\n",
    "\n",
    "if 3 in dict_self:\n",
    "    print('Key is present and value of the key is:','')\n",
    "else:\n",
    "    print('Key isnt present in the dictionary!')"
   ]
  },
  {
   "cell_type": "code",
   "execution_count": 41,
   "metadata": {},
   "outputs": [
    {
     "name": "stdout",
     "output_type": "stream",
     "text": [
      "Enter Your Batch No.3\n",
      "Key isnt present in the dictionary!\n"
     ]
    }
   ],
   "source": [
    "dict_self = {\n",
    "    'Name':'Arslan', \n",
    "    'Father Name':'M.Asif', \n",
    "    'Roll No.':55472,\n",
    "    'Batch': 3\n",
    "}\n",
    "key_chk = input('Enter Your Batch No.')\n",
    "\n",
    "if key_chk in dict_self:\n",
    "    print('Key is present and value of the key is:',key_chk)\n",
    "else:\n",
    "    print('Key isnt present in the dictionary!')"
   ]
  },
  {
   "cell_type": "code",
   "execution_count": 44,
   "metadata": {},
   "outputs": [
    {
     "name": "stdout",
     "output_type": "stream",
     "text": [
      "Enter Your Batch No.3\n"
     ]
    },
    {
     "ename": "TypeError",
     "evalue": "'dict' object is not callable",
     "output_type": "error",
     "traceback": [
      "\u001b[1;31m---------------------------------------------------------------------------\u001b[0m",
      "\u001b[1;31mTypeError\u001b[0m                                 Traceback (most recent call last)",
      "\u001b[1;32m<ipython-input-44-0c8c2c93e68e>\u001b[0m in \u001b[0;36m<module>\u001b[1;34m\u001b[0m\n\u001b[0;32m      7\u001b[0m \u001b[0mkey_chk\u001b[0m \u001b[1;33m=\u001b[0m \u001b[0minput\u001b[0m\u001b[1;33m(\u001b[0m\u001b[1;34m'Enter Your Batch No.'\u001b[0m\u001b[1;33m)\u001b[0m\u001b[1;33m\u001b[0m\u001b[1;33m\u001b[0m\u001b[0m\n\u001b[0;32m      8\u001b[0m \u001b[1;33m\u001b[0m\u001b[0m\n\u001b[1;32m----> 9\u001b[1;33m \u001b[1;32mif\u001b[0m \u001b[0mdict_self\u001b[0m\u001b[1;33m(\u001b[0m\u001b[1;34m'Batch'\u001b[0m\u001b[1;33m)\u001b[0m \u001b[1;32min\u001b[0m \u001b[0mdict_self\u001b[0m \u001b[1;33m==\u001b[0m \u001b[1;36m3\u001b[0m\u001b[1;33m:\u001b[0m\u001b[1;33m\u001b[0m\u001b[1;33m\u001b[0m\u001b[0m\n\u001b[0m\u001b[0;32m     10\u001b[0m     \u001b[0mprint\u001b[0m\u001b[1;33m(\u001b[0m\u001b[1;34m'Key is present and value of the key is:'\u001b[0m\u001b[1;33m,\u001b[0m\u001b[0mkey_chk\u001b[0m\u001b[1;33m)\u001b[0m\u001b[1;33m\u001b[0m\u001b[1;33m\u001b[0m\u001b[0m\n\u001b[0;32m     11\u001b[0m \u001b[1;32melse\u001b[0m\u001b[1;33m:\u001b[0m\u001b[1;33m\u001b[0m\u001b[1;33m\u001b[0m\u001b[0m\n",
      "\u001b[1;31mTypeError\u001b[0m: 'dict' object is not callable"
     ]
    }
   ],
   "source": [
    "dict_self = {\n",
    "    'Name':'Arslan', \n",
    "    'Father Name':'M.Asif', \n",
    "    'Roll No.':55472,\n",
    "    'Batch': 3\n",
    "}\n",
    "key_chk = input('Enter Your Batch No.')\n",
    "\n",
    "if dict_self('Batch') in dict_self == 3:\n",
    "    print('Key is present and value of the key is:',key_chk)\n",
    "else:\n",
    "    print('Key isnt present in the dictionary!')"
   ]
  },
  {
   "cell_type": "code",
   "execution_count": 45,
   "metadata": {},
   "outputs": [
    {
     "name": "stdout",
     "output_type": "stream",
     "text": [
      "Enter Your Batch No.3\n"
     ]
    },
    {
     "ename": "TypeError",
     "evalue": "'dict' object is not callable",
     "output_type": "error",
     "traceback": [
      "\u001b[1;31m---------------------------------------------------------------------------\u001b[0m",
      "\u001b[1;31mTypeError\u001b[0m                                 Traceback (most recent call last)",
      "\u001b[1;32m<ipython-input-45-21a1f8124d01>\u001b[0m in \u001b[0;36m<module>\u001b[1;34m\u001b[0m\n\u001b[0;32m      7\u001b[0m \u001b[0mkey_chk\u001b[0m \u001b[1;33m=\u001b[0m \u001b[0minput\u001b[0m\u001b[1;33m(\u001b[0m\u001b[1;34m'Enter Your Batch No.'\u001b[0m\u001b[1;33m)\u001b[0m\u001b[1;33m\u001b[0m\u001b[1;33m\u001b[0m\u001b[0m\n\u001b[0;32m      8\u001b[0m \u001b[1;33m\u001b[0m\u001b[0m\n\u001b[1;32m----> 9\u001b[1;33m \u001b[1;32mif\u001b[0m \u001b[0mdict_self\u001b[0m\u001b[1;33m(\u001b[0m\u001b[1;34m'Batch'\u001b[0m\u001b[1;33m)\u001b[0m \u001b[1;33m==\u001b[0m \u001b[1;36m3\u001b[0m\u001b[1;33m:\u001b[0m\u001b[1;33m\u001b[0m\u001b[1;33m\u001b[0m\u001b[0m\n\u001b[0m\u001b[0;32m     10\u001b[0m     \u001b[0mprint\u001b[0m\u001b[1;33m(\u001b[0m\u001b[1;34m'Key is present and value of the key is:'\u001b[0m\u001b[1;33m,\u001b[0m\u001b[0mkey_chk\u001b[0m\u001b[1;33m)\u001b[0m\u001b[1;33m\u001b[0m\u001b[1;33m\u001b[0m\u001b[0m\n\u001b[0;32m     11\u001b[0m \u001b[1;32melse\u001b[0m\u001b[1;33m:\u001b[0m\u001b[1;33m\u001b[0m\u001b[1;33m\u001b[0m\u001b[0m\n",
      "\u001b[1;31mTypeError\u001b[0m: 'dict' object is not callable"
     ]
    }
   ],
   "source": [
    "dict_self = {\n",
    "    'Name':'Arslan', \n",
    "    'Father Name':'M.Asif', \n",
    "    'Roll No.':55472,\n",
    "    'Batch': 3\n",
    "}\n",
    "key_chk = input('Enter Your Batch No.')\n",
    "\n",
    "if dict_self('Batch') == 3:\n",
    "    print('Key is present and value of the key is:',key_chk)\n",
    "else:\n",
    "    print('Key isnt present in the dictionary!')"
   ]
  },
  {
   "cell_type": "code",
   "execution_count": 47,
   "metadata": {},
   "outputs": [
    {
     "name": "stdout",
     "output_type": "stream",
     "text": [
      "Enter Your Batch No.3\n"
     ]
    },
    {
     "ename": "AttributeError",
     "evalue": "'dict' object has no attribute 'key'",
     "output_type": "error",
     "traceback": [
      "\u001b[1;31m---------------------------------------------------------------------------\u001b[0m",
      "\u001b[1;31mAttributeError\u001b[0m                            Traceback (most recent call last)",
      "\u001b[1;32m<ipython-input-47-a438b24ed97a>\u001b[0m in \u001b[0;36m<module>\u001b[1;34m\u001b[0m\n\u001b[0;32m      7\u001b[0m \u001b[0mkey_chk\u001b[0m \u001b[1;33m=\u001b[0m \u001b[0minput\u001b[0m\u001b[1;33m(\u001b[0m\u001b[1;34m'Enter Your Batch No.'\u001b[0m\u001b[1;33m)\u001b[0m\u001b[1;33m\u001b[0m\u001b[1;33m\u001b[0m\u001b[0m\n\u001b[0;32m      8\u001b[0m \u001b[1;33m\u001b[0m\u001b[0m\n\u001b[1;32m----> 9\u001b[1;33m \u001b[1;32mif\u001b[0m \u001b[0mkey_chk\u001b[0m \u001b[1;32min\u001b[0m \u001b[0mdict_self\u001b[0m\u001b[1;33m.\u001b[0m\u001b[0mkey\u001b[0m\u001b[1;33m(\u001b[0m\u001b[1;34m'Batch'\u001b[0m\u001b[1;33m)\u001b[0m\u001b[1;33m:\u001b[0m\u001b[1;33m\u001b[0m\u001b[1;33m\u001b[0m\u001b[0m\n\u001b[0m\u001b[0;32m     10\u001b[0m     \u001b[0mprint\u001b[0m\u001b[1;33m(\u001b[0m\u001b[1;34m'Key is present and value of the key is:'\u001b[0m\u001b[1;33m,\u001b[0m\u001b[0mkey_chk\u001b[0m\u001b[1;33m)\u001b[0m\u001b[1;33m\u001b[0m\u001b[1;33m\u001b[0m\u001b[0m\n\u001b[0;32m     11\u001b[0m \u001b[1;32melse\u001b[0m\u001b[1;33m:\u001b[0m\u001b[1;33m\u001b[0m\u001b[1;33m\u001b[0m\u001b[0m\n",
      "\u001b[1;31mAttributeError\u001b[0m: 'dict' object has no attribute 'key'"
     ]
    }
   ],
   "source": [
    "dict_self = {\n",
    "    'Name':'Arslan', \n",
    "    'Father Name':'M.Asif', \n",
    "    'Roll No.':55472,\n",
    "    'Batch': 3\n",
    "}\n",
    "key_chk = input('Enter Your Batch No.')\n",
    "\n",
    "if key_chk in dict_self.key('Batch'):\n",
    "    print('Key is present and value of the key is:',key_chk)\n",
    "else:\n",
    "    print('Key isnt present in the dictionary!')"
   ]
  },
  {
   "cell_type": "code",
   "execution_count": 46,
   "metadata": {},
   "outputs": [
    {
     "name": "stdout",
     "output_type": "stream",
     "text": [
      "Enter Your Batch No.3\n"
     ]
    },
    {
     "ename": "AttributeError",
     "evalue": "'dict' object has no attribute 'key'",
     "output_type": "error",
     "traceback": [
      "\u001b[1;31m---------------------------------------------------------------------------\u001b[0m",
      "\u001b[1;31mAttributeError\u001b[0m                            Traceback (most recent call last)",
      "\u001b[1;32m<ipython-input-46-66a346f80c0d>\u001b[0m in \u001b[0;36m<module>\u001b[1;34m\u001b[0m\n\u001b[0;32m      7\u001b[0m \u001b[0mkey_chk\u001b[0m \u001b[1;33m=\u001b[0m \u001b[0minput\u001b[0m\u001b[1;33m(\u001b[0m\u001b[1;34m'Enter Your Batch No.'\u001b[0m\u001b[1;33m)\u001b[0m\u001b[1;33m\u001b[0m\u001b[1;33m\u001b[0m\u001b[0m\n\u001b[0;32m      8\u001b[0m \u001b[1;33m\u001b[0m\u001b[0m\n\u001b[1;32m----> 9\u001b[1;33m \u001b[1;32mif\u001b[0m \u001b[0mkey_chk\u001b[0m \u001b[1;32min\u001b[0m \u001b[0mdict_self\u001b[0m\u001b[1;33m.\u001b[0m\u001b[0mkey\u001b[0m\u001b[1;33m(\u001b[0m\u001b[1;33m)\u001b[0m\u001b[1;33m:\u001b[0m\u001b[1;33m\u001b[0m\u001b[1;33m\u001b[0m\u001b[0m\n\u001b[0m\u001b[0;32m     10\u001b[0m     \u001b[0mprint\u001b[0m\u001b[1;33m(\u001b[0m\u001b[1;34m'Key is present and value of the key is:'\u001b[0m\u001b[1;33m,\u001b[0m\u001b[0mkey_chk\u001b[0m\u001b[1;33m)\u001b[0m\u001b[1;33m\u001b[0m\u001b[1;33m\u001b[0m\u001b[0m\n\u001b[0;32m     11\u001b[0m \u001b[1;32melse\u001b[0m\u001b[1;33m:\u001b[0m\u001b[1;33m\u001b[0m\u001b[1;33m\u001b[0m\u001b[0m\n",
      "\u001b[1;31mAttributeError\u001b[0m: 'dict' object has no attribute 'key'"
     ]
    }
   ],
   "source": [
    "dict_self = {\n",
    "    'Name':'Arslan', \n",
    "    'Father Name':'M.Asif', \n",
    "    'Roll No.':55472,\n",
    "    'Batch': 3\n",
    "}\n",
    "key_chk = input('Enter Your Batch No.')\n",
    "\n",
    "if key_chk in dict_self.key():\n",
    "    print('Key is present and value of the key is:',key_chk)\n",
    "else:\n",
    "    print('Key isnt present in the dictionary!')"
   ]
  },
  {
   "cell_type": "code",
   "execution_count": 49,
   "metadata": {},
   "outputs": [
    {
     "name": "stdout",
     "output_type": "stream",
     "text": [
      "Enter Your Batch No.3\n"
     ]
    },
    {
     "ename": "AttributeError",
     "evalue": "'dict' object has no attribute 'key'",
     "output_type": "error",
     "traceback": [
      "\u001b[1;31m---------------------------------------------------------------------------\u001b[0m",
      "\u001b[1;31mAttributeError\u001b[0m                            Traceback (most recent call last)",
      "\u001b[1;32m<ipython-input-49-014cc6c667a9>\u001b[0m in \u001b[0;36m<module>\u001b[1;34m\u001b[0m\n\u001b[0;32m      7\u001b[0m \u001b[0mkey_chk\u001b[0m \u001b[1;33m=\u001b[0m \u001b[0minput\u001b[0m\u001b[1;33m(\u001b[0m\u001b[1;34m'Enter Your Batch No.'\u001b[0m\u001b[1;33m)\u001b[0m\u001b[1;33m\u001b[0m\u001b[1;33m\u001b[0m\u001b[0m\n\u001b[0;32m      8\u001b[0m \u001b[1;33m\u001b[0m\u001b[0m\n\u001b[1;32m----> 9\u001b[1;33m \u001b[1;32mif\u001b[0m \u001b[0mkey_chk\u001b[0m \u001b[1;32min\u001b[0m \u001b[0mdict_self\u001b[0m\u001b[1;33m.\u001b[0m\u001b[0mkey\u001b[0m\u001b[1;33m(\u001b[0m\u001b[1;36m3\u001b[0m\u001b[1;33m)\u001b[0m\u001b[1;33m:\u001b[0m\u001b[1;33m\u001b[0m\u001b[1;33m\u001b[0m\u001b[0m\n\u001b[0m\u001b[0;32m     10\u001b[0m     \u001b[0mprint\u001b[0m\u001b[1;33m(\u001b[0m\u001b[1;34m'Key is present and value of the key is:'\u001b[0m\u001b[1;33m,\u001b[0m\u001b[0mkey_chk\u001b[0m\u001b[1;33m)\u001b[0m\u001b[1;33m\u001b[0m\u001b[1;33m\u001b[0m\u001b[0m\n\u001b[0;32m     11\u001b[0m \u001b[1;32melse\u001b[0m\u001b[1;33m:\u001b[0m\u001b[1;33m\u001b[0m\u001b[1;33m\u001b[0m\u001b[0m\n",
      "\u001b[1;31mAttributeError\u001b[0m: 'dict' object has no attribute 'key'"
     ]
    }
   ],
   "source": [
    "dict_self = {\n",
    "    'Name':'Arslan', \n",
    "    'Father Name':'M.Asif', \n",
    "    'Roll No.':55472,\n",
    "    'Batch': 3\n",
    "}\n",
    "key_chk = input('Enter Your Batch No.')\n",
    "\n",
    "if key_chk in dict_self.key(3):\n",
    "    print('Key is present and value of the key is:',key_chk)\n",
    "else:\n",
    "    print('Key isnt present in the dictionary!')"
   ]
  },
  {
   "cell_type": "code",
   "execution_count": 50,
   "metadata": {},
   "outputs": [
    {
     "name": "stdout",
     "output_type": "stream",
     "text": [
      "Enter Your Batch No.3\n"
     ]
    },
    {
     "ename": "AttributeError",
     "evalue": "'dict' object has no attribute 'key'",
     "output_type": "error",
     "traceback": [
      "\u001b[1;31m---------------------------------------------------------------------------\u001b[0m",
      "\u001b[1;31mAttributeError\u001b[0m                            Traceback (most recent call last)",
      "\u001b[1;32m<ipython-input-50-ac020dae8724>\u001b[0m in \u001b[0;36m<module>\u001b[1;34m\u001b[0m\n\u001b[0;32m      7\u001b[0m \u001b[0mkey_chk\u001b[0m \u001b[1;33m=\u001b[0m \u001b[0minput\u001b[0m\u001b[1;33m(\u001b[0m\u001b[1;34m'Enter Your Batch No.'\u001b[0m\u001b[1;33m)\u001b[0m\u001b[1;33m\u001b[0m\u001b[1;33m\u001b[0m\u001b[0m\n\u001b[0;32m      8\u001b[0m \u001b[1;33m\u001b[0m\u001b[0m\n\u001b[1;32m----> 9\u001b[1;33m \u001b[1;32mif\u001b[0m \u001b[0mkey_chk\u001b[0m \u001b[1;32min\u001b[0m \u001b[0mdict_self\u001b[0m\u001b[1;33m.\u001b[0m\u001b[0mkey\u001b[0m\u001b[1;33m(\u001b[0m\u001b[1;34m'Batch'\u001b[0m\u001b[1;33m)\u001b[0m\u001b[1;33m:\u001b[0m\u001b[1;33m\u001b[0m\u001b[1;33m\u001b[0m\u001b[0m\n\u001b[0m\u001b[0;32m     10\u001b[0m     \u001b[0mprint\u001b[0m\u001b[1;33m(\u001b[0m\u001b[1;34m'Key is present and value of the key is:'\u001b[0m\u001b[1;33m,\u001b[0m \u001b[1;34m''\u001b[0m\u001b[1;33m)\u001b[0m\u001b[1;33m\u001b[0m\u001b[1;33m\u001b[0m\u001b[0m\n\u001b[0;32m     11\u001b[0m \u001b[1;32melse\u001b[0m\u001b[1;33m:\u001b[0m\u001b[1;33m\u001b[0m\u001b[1;33m\u001b[0m\u001b[0m\n",
      "\u001b[1;31mAttributeError\u001b[0m: 'dict' object has no attribute 'key'"
     ]
    }
   ],
   "source": [
    "dict_self = {\n",
    "    'Name':'Arslan', \n",
    "    'Father Name':'M.Asif', \n",
    "    'Roll No.':55472,\n",
    "    'Batch': 3\n",
    "}\n",
    "key_chk = input('Enter Your Batch No.')\n",
    "\n",
    "if key_chk in dict_self.key('Batch'):\n",
    "    print('Key is present and value of the key is:', '')\n",
    "else:\n",
    "    print('Key isnt present in the dictionary!')"
   ]
  },
  {
   "cell_type": "code",
   "execution_count": 51,
   "metadata": {},
   "outputs": [
    {
     "name": "stdout",
     "output_type": "stream",
     "text": [
      "Enter Your Batch No.3\n"
     ]
    },
    {
     "ename": "AttributeError",
     "evalue": "'dict' object has no attribute 'key'",
     "output_type": "error",
     "traceback": [
      "\u001b[1;31m---------------------------------------------------------------------------\u001b[0m",
      "\u001b[1;31mAttributeError\u001b[0m                            Traceback (most recent call last)",
      "\u001b[1;32m<ipython-input-51-1737b96b6152>\u001b[0m in \u001b[0;36m<module>\u001b[1;34m\u001b[0m\n\u001b[0;32m      7\u001b[0m \u001b[0mkey_chk\u001b[0m \u001b[1;33m=\u001b[0m \u001b[0minput\u001b[0m\u001b[1;33m(\u001b[0m\u001b[1;34m'Enter Your Batch No.'\u001b[0m\u001b[1;33m)\u001b[0m\u001b[1;33m\u001b[0m\u001b[1;33m\u001b[0m\u001b[0m\n\u001b[0;32m      8\u001b[0m \u001b[1;33m\u001b[0m\u001b[0m\n\u001b[1;32m----> 9\u001b[1;33m \u001b[1;32mif\u001b[0m \u001b[0mkey_chk\u001b[0m \u001b[1;32min\u001b[0m \u001b[0mdict_self\u001b[0m\u001b[1;33m.\u001b[0m\u001b[0mkey\u001b[0m\u001b[1;33m==\u001b[0m\u001b[1;33m(\u001b[0m\u001b[1;34m'Batch'\u001b[0m\u001b[1;33m)\u001b[0m\u001b[1;33m:\u001b[0m\u001b[1;33m\u001b[0m\u001b[1;33m\u001b[0m\u001b[0m\n\u001b[0m\u001b[0;32m     10\u001b[0m     \u001b[0mprint\u001b[0m\u001b[1;33m(\u001b[0m\u001b[1;34m'Key is present and value of the key is:'\u001b[0m\u001b[1;33m,\u001b[0m\u001b[0mkey_chk\u001b[0m\u001b[1;33m)\u001b[0m\u001b[1;33m\u001b[0m\u001b[1;33m\u001b[0m\u001b[0m\n\u001b[0;32m     11\u001b[0m \u001b[1;32melse\u001b[0m\u001b[1;33m:\u001b[0m\u001b[1;33m\u001b[0m\u001b[1;33m\u001b[0m\u001b[0m\n",
      "\u001b[1;31mAttributeError\u001b[0m: 'dict' object has no attribute 'key'"
     ]
    }
   ],
   "source": [
    "dict_self = {\n",
    "    'Name':'Arslan', \n",
    "    'Father Name':'M.Asif', \n",
    "    'Roll No.':55472,\n",
    "    'Batch': 3\n",
    "}\n",
    "key_chk = input('Enter Your Batch No.')\n",
    "\n",
    "if key_chk in dict_self.key==('Batch'):\n",
    "    print('Key is present and value of the key is:',key_chk)\n",
    "else:\n",
    "    print('Key isnt present in the dictionary!')"
   ]
  },
  {
   "cell_type": "code",
   "execution_count": 52,
   "metadata": {},
   "outputs": [
    {
     "name": "stdout",
     "output_type": "stream",
     "text": [
      "Enter Your Batch No.3\n",
      "Key isnt present in the dictionary!\n"
     ]
    }
   ],
   "source": [
    "dict_self = {\n",
    "    'Name':'Arslan', \n",
    "    'Father Name':'M.Asif', \n",
    "    'Roll No.':55472,\n",
    "    'Batch': 3\n",
    "}\n",
    "key_chk = input('Enter Your Batch No.')\n",
    "\n",
    "if key_chk in dict_self:\n",
    "    print('Key is present and value of the key is:',key_chk)\n",
    "else:\n",
    "    print('Key isnt present in the dictionary!')"
   ]
  },
  {
   "cell_type": "code",
   "execution_count": 53,
   "metadata": {},
   "outputs": [
    {
     "name": "stdout",
     "output_type": "stream",
     "text": [
      "Enter Your Batch No.3\n"
     ]
    },
    {
     "ename": "TypeError",
     "evalue": "'dict' object is not callable",
     "output_type": "error",
     "traceback": [
      "\u001b[1;31m---------------------------------------------------------------------------\u001b[0m",
      "\u001b[1;31mTypeError\u001b[0m                                 Traceback (most recent call last)",
      "\u001b[1;32m<ipython-input-53-27351023ad3c>\u001b[0m in \u001b[0;36m<module>\u001b[1;34m\u001b[0m\n\u001b[0;32m      7\u001b[0m \u001b[0mkey_chk\u001b[0m \u001b[1;33m=\u001b[0m \u001b[0minput\u001b[0m\u001b[1;33m(\u001b[0m\u001b[1;34m'Enter Your Batch No.'\u001b[0m\u001b[1;33m)\u001b[0m\u001b[1;33m\u001b[0m\u001b[1;33m\u001b[0m\u001b[0m\n\u001b[0;32m      8\u001b[0m \u001b[1;33m\u001b[0m\u001b[0m\n\u001b[1;32m----> 9\u001b[1;33m \u001b[1;32mif\u001b[0m \u001b[0mkey_chk\u001b[0m \u001b[1;32min\u001b[0m \u001b[0mdict_self\u001b[0m\u001b[1;33m(\u001b[0m\u001b[1;34m'Batch'\u001b[0m\u001b[1;33m)\u001b[0m\u001b[1;33m:\u001b[0m\u001b[1;33m\u001b[0m\u001b[1;33m\u001b[0m\u001b[0m\n\u001b[0m\u001b[0;32m     10\u001b[0m     \u001b[0mprint\u001b[0m\u001b[1;33m(\u001b[0m\u001b[1;34m'Key is present and value of the key is:'\u001b[0m\u001b[1;33m,\u001b[0m\u001b[0mkey_chk\u001b[0m\u001b[1;33m)\u001b[0m\u001b[1;33m\u001b[0m\u001b[1;33m\u001b[0m\u001b[0m\n\u001b[0;32m     11\u001b[0m \u001b[1;32melse\u001b[0m\u001b[1;33m:\u001b[0m\u001b[1;33m\u001b[0m\u001b[1;33m\u001b[0m\u001b[0m\n",
      "\u001b[1;31mTypeError\u001b[0m: 'dict' object is not callable"
     ]
    }
   ],
   "source": [
    "dict_self = {\n",
    "    'Name':'Arslan', \n",
    "    'Father Name':'M.Asif', \n",
    "    'Roll No.':55472,\n",
    "    'Batch': 3\n",
    "}\n",
    "key_chk = input('Enter Your Batch No.')\n",
    "\n",
    "if key_chk in dict_self('Batch'):\n",
    "    print('Key is present and value of the key is:',key_chk)\n",
    "else:\n",
    "    print('Key isnt present in the dictionary!')"
   ]
  },
  {
   "cell_type": "code",
   "execution_count": 54,
   "metadata": {},
   "outputs": [
    {
     "name": "stdout",
     "output_type": "stream",
     "text": [
      "Enter Your Batch No.3\n"
     ]
    },
    {
     "ename": "AttributeError",
     "evalue": "'dict' object has no attribute 'key'",
     "output_type": "error",
     "traceback": [
      "\u001b[1;31m---------------------------------------------------------------------------\u001b[0m",
      "\u001b[1;31mAttributeError\u001b[0m                            Traceback (most recent call last)",
      "\u001b[1;32m<ipython-input-54-dfcb6c259aa2>\u001b[0m in \u001b[0;36m<module>\u001b[1;34m\u001b[0m\n\u001b[0;32m      7\u001b[0m \u001b[0mkey_chk\u001b[0m \u001b[1;33m=\u001b[0m \u001b[0minput\u001b[0m\u001b[1;33m(\u001b[0m\u001b[1;34m'Enter Your Batch No.'\u001b[0m\u001b[1;33m)\u001b[0m\u001b[1;33m\u001b[0m\u001b[1;33m\u001b[0m\u001b[0m\n\u001b[0;32m      8\u001b[0m \u001b[1;33m\u001b[0m\u001b[0m\n\u001b[1;32m----> 9\u001b[1;33m \u001b[1;32mif\u001b[0m \u001b[0mkey_chk\u001b[0m \u001b[1;32min\u001b[0m \u001b[0mdict_self\u001b[0m\u001b[1;33m.\u001b[0m\u001b[0mkey\u001b[0m\u001b[1;33m(\u001b[0m\u001b[1;34m'Batch'\u001b[0m\u001b[1;33m)\u001b[0m\u001b[1;33m:\u001b[0m\u001b[1;33m\u001b[0m\u001b[1;33m\u001b[0m\u001b[0m\n\u001b[0m\u001b[0;32m     10\u001b[0m     \u001b[0mprint\u001b[0m\u001b[1;33m(\u001b[0m\u001b[1;34m'Key is present and value of the key is:'\u001b[0m\u001b[1;33m,\u001b[0m\u001b[0mdict_self\u001b[0m\u001b[1;33m[\u001b[0m\u001b[0mkey_chk\u001b[0m\u001b[1;33m]\u001b[0m\u001b[1;33m)\u001b[0m\u001b[1;33m\u001b[0m\u001b[1;33m\u001b[0m\u001b[0m\n\u001b[0;32m     11\u001b[0m \u001b[1;32melse\u001b[0m\u001b[1;33m:\u001b[0m\u001b[1;33m\u001b[0m\u001b[1;33m\u001b[0m\u001b[0m\n",
      "\u001b[1;31mAttributeError\u001b[0m: 'dict' object has no attribute 'key'"
     ]
    }
   ],
   "source": [
    "dict_self = {\n",
    "    'Name':'Arslan', \n",
    "    'Father Name':'M.Asif', \n",
    "    'Roll No.':55472,\n",
    "    'Batch': 3\n",
    "}\n",
    "key_chk = input('Enter Your Batch No.')\n",
    "\n",
    "if key_chk in dict_self.key('Batch'):\n",
    "    print('Key is present and value of the key is:',dict_self[key_chk])\n",
    "else:\n",
    "    print('Key isnt present in the dictionary!')"
   ]
  },
  {
   "cell_type": "code",
   "execution_count": 57,
   "metadata": {},
   "outputs": [
    {
     "ename": "SyntaxError",
     "evalue": "invalid syntax (<ipython-input-57-604a6cd77987>, line 10)",
     "output_type": "error",
     "traceback": [
      "\u001b[1;36m  File \u001b[1;32m\"<ipython-input-57-604a6cd77987>\"\u001b[1;36m, line \u001b[1;32m10\u001b[0m\n\u001b[1;33m    print('Key is present and value of the key is:',dict_self('Batch'):[key_chk])\u001b[0m\n\u001b[1;37m                                                                      ^\u001b[0m\n\u001b[1;31mSyntaxError\u001b[0m\u001b[1;31m:\u001b[0m invalid syntax\n"
     ]
    }
   ],
   "source": [
    "dict_self = {\n",
    "    'Name':'Arslan', \n",
    "    'Father Name':'M.Asif', \n",
    "    'Roll No.':55472,\n",
    "    'Batch': 3\n",
    "}\n",
    "key_chk = input('Enter Your Batch No.')\n",
    "\n",
    "if key_chk in dict_self:\n",
    "    print('Key is present and value of the key is:',dict_self('Batch'):[key_chk])\n",
    "else:\n",
    "    print('Key isnt present in the dictionary!')"
   ]
  },
  {
   "cell_type": "code",
   "execution_count": 58,
   "metadata": {},
   "outputs": [
    {
     "name": "stdout",
     "output_type": "stream",
     "text": [
      "Enter Your Batch No.3\n",
      "Key isnt present in the dictionary!\n"
     ]
    }
   ],
   "source": [
    "dict_self = {\n",
    "    'Name':'Arslan', \n",
    "    'Father Name':'M.Asif', \n",
    "    'Roll No.':55472,\n",
    "    'Batch': 3\n",
    "}\n",
    "\n",
    "key_chk = input('Enter Your Batch No.')\n",
    "\n",
    "if key_chk in dict_self:\n",
    "    print('Key is present and value of the key is:',[key_chk])\n",
    "else:\n",
    "    print('Key isnt present in the dictionary!')"
   ]
  },
  {
   "cell_type": "code",
   "execution_count": 59,
   "metadata": {},
   "outputs": [
    {
     "name": "stdout",
     "output_type": "stream",
     "text": [
      "Enter Your Batch No.3\n",
      "Key isnt present in the dictionary!\n"
     ]
    }
   ],
   "source": [
    "dict_self = {\n",
    "    'Name':'Arslan', \n",
    "    'Father Name':'M.Asif', \n",
    "    'Roll No.':55472,\n",
    "    'Batch': 3\n",
    "}\n",
    "\n",
    "key_chk = input('Enter Your Batch No.')\n",
    "\n",
    "if key_chk in dict_self:\n",
    "    print('Key is present and value of the key is:',)\n",
    "else:\n",
    "    print('Key isnt present in the dictionary!')"
   ]
  },
  {
   "cell_type": "code",
   "execution_count": 60,
   "metadata": {},
   "outputs": [
    {
     "name": "stdout",
     "output_type": "stream",
     "text": [
      "Enter Your Batch No.3\n"
     ]
    },
    {
     "ename": "AttributeError",
     "evalue": "'dict' object has no attribute 'key'",
     "output_type": "error",
     "traceback": [
      "\u001b[1;31m---------------------------------------------------------------------------\u001b[0m",
      "\u001b[1;31mAttributeError\u001b[0m                            Traceback (most recent call last)",
      "\u001b[1;32m<ipython-input-60-99fb52e5be83>\u001b[0m in \u001b[0;36m<module>\u001b[1;34m\u001b[0m\n\u001b[0;32m      8\u001b[0m \u001b[0mkey_chk\u001b[0m \u001b[1;33m=\u001b[0m \u001b[0minput\u001b[0m\u001b[1;33m(\u001b[0m\u001b[1;34m'Enter Your Batch No.'\u001b[0m\u001b[1;33m)\u001b[0m\u001b[1;33m\u001b[0m\u001b[1;33m\u001b[0m\u001b[0m\n\u001b[0;32m      9\u001b[0m \u001b[1;33m\u001b[0m\u001b[0m\n\u001b[1;32m---> 10\u001b[1;33m \u001b[1;32mif\u001b[0m \u001b[0mkey_chk\u001b[0m \u001b[1;32min\u001b[0m \u001b[0mdict_self\u001b[0m\u001b[1;33m.\u001b[0m\u001b[0mkey\u001b[0m\u001b[1;33m(\u001b[0m\u001b[1;33m)\u001b[0m\u001b[1;33m:\u001b[0m\u001b[1;33m\u001b[0m\u001b[1;33m\u001b[0m\u001b[0m\n\u001b[0m\u001b[0;32m     11\u001b[0m     \u001b[0mprint\u001b[0m\u001b[1;33m(\u001b[0m\u001b[1;34m'Key is present and value of the key is:'\u001b[0m\u001b[1;33m,\u001b[0m\u001b[1;33m)\u001b[0m\u001b[1;33m\u001b[0m\u001b[1;33m\u001b[0m\u001b[0m\n\u001b[0;32m     12\u001b[0m \u001b[1;32melse\u001b[0m\u001b[1;33m:\u001b[0m\u001b[1;33m\u001b[0m\u001b[1;33m\u001b[0m\u001b[0m\n",
      "\u001b[1;31mAttributeError\u001b[0m: 'dict' object has no attribute 'key'"
     ]
    }
   ],
   "source": [
    "dict_self = {\n",
    "    'Name':'Arslan', \n",
    "    'Father Name':'M.Asif', \n",
    "    'Roll No.':55472,\n",
    "    'Batch': 3\n",
    "}\n",
    "\n",
    "key_chk = input('Enter Your Batch No.')\n",
    "\n",
    "if key_chk in dict_self.key():\n",
    "    print('Key is present and value of the key is:',)\n",
    "else:\n",
    "    print('Key isnt present in the dictionary!')"
   ]
  },
  {
   "cell_type": "code",
   "execution_count": 61,
   "metadata": {},
   "outputs": [
    {
     "name": "stdout",
     "output_type": "stream",
     "text": [
      "Enter Your Batch No.3\n"
     ]
    },
    {
     "ename": "AttributeError",
     "evalue": "'dict' object has no attribute 'key'",
     "output_type": "error",
     "traceback": [
      "\u001b[1;31m---------------------------------------------------------------------------\u001b[0m",
      "\u001b[1;31mAttributeError\u001b[0m                            Traceback (most recent call last)",
      "\u001b[1;32m<ipython-input-61-36bdb2057817>\u001b[0m in \u001b[0;36m<module>\u001b[1;34m\u001b[0m\n\u001b[0;32m      8\u001b[0m \u001b[0mkey_chk\u001b[0m \u001b[1;33m=\u001b[0m \u001b[0minput\u001b[0m\u001b[1;33m(\u001b[0m\u001b[1;34m'Enter Your Batch No.'\u001b[0m\u001b[1;33m)\u001b[0m\u001b[1;33m\u001b[0m\u001b[1;33m\u001b[0m\u001b[0m\n\u001b[0;32m      9\u001b[0m \u001b[1;33m\u001b[0m\u001b[0m\n\u001b[1;32m---> 10\u001b[1;33m \u001b[1;32mif\u001b[0m \u001b[0mkey_chk\u001b[0m \u001b[1;32min\u001b[0m \u001b[0mdict_self\u001b[0m\u001b[1;33m.\u001b[0m\u001b[0mkey\u001b[0m\u001b[1;33m(\u001b[0m\u001b[1;33m)\u001b[0m\u001b[1;33m:\u001b[0m\u001b[1;33m\u001b[0m\u001b[1;33m\u001b[0m\u001b[0m\n\u001b[0m\u001b[0;32m     11\u001b[0m     \u001b[0mprint\u001b[0m\u001b[1;33m(\u001b[0m\u001b[1;34m'Key is present and value of the key is:'\u001b[0m\u001b[1;33m,\u001b[0m\u001b[1;33m)\u001b[0m\u001b[1;33m\u001b[0m\u001b[1;33m\u001b[0m\u001b[0m\n\u001b[0;32m     12\u001b[0m     \u001b[0mprint\u001b[0m\u001b[1;33m(\u001b[0m\u001b[0mdict_self\u001b[0m\u001b[1;33m[\u001b[0m\u001b[0mkey_chk\u001b[0m\u001b[1;33m]\u001b[0m\u001b[1;33m)\u001b[0m\u001b[1;33m\u001b[0m\u001b[1;33m\u001b[0m\u001b[0m\n",
      "\u001b[1;31mAttributeError\u001b[0m: 'dict' object has no attribute 'key'"
     ]
    }
   ],
   "source": [
    "dict_self = {\n",
    "    'Name':'Arslan', \n",
    "    'Father Name':'M.Asif', \n",
    "    'Roll No.':55472,\n",
    "    'Batch': 3\n",
    "}\n",
    "\n",
    "key_chk = input('Enter Your Batch No.')\n",
    "\n",
    "if key_chk in dict_self.key():\n",
    "    print('Key is present and value of the key is:',)\n",
    "    print(dict_self[key_chk])\n",
    "else:\n",
    "    print('Key isnt present in the dictionary!')"
   ]
  },
  {
   "cell_type": "code",
   "execution_count": 63,
   "metadata": {},
   "outputs": [
    {
     "name": "stdout",
     "output_type": "stream",
     "text": [
      "Enter Your Batch No.3\n",
      "Key isnt present in the dictionary!\n"
     ]
    }
   ],
   "source": [
    "dictSelf = {\n",
    "    'Name':'Arslan', \n",
    "    'Father Name':'M.Asif', \n",
    "    'Roll No.':55472,\n",
    "    'Batch': 3\n",
    "}\n",
    "\n",
    "key = input('Enter Your Batch No.')\n",
    "\n",
    "if key in dictSelf.keys():\n",
    "    print('Key is present and value of the key is:',)\n",
    "    print(dictSelf[key])\n",
    "else:\n",
    "    print('Key isnt present in the dictionary!')"
   ]
  },
  {
   "cell_type": "code",
   "execution_count": 71,
   "metadata": {},
   "outputs": [
    {
     "ename": "IndentationError",
     "evalue": "unindent does not match any outer indentation level (<tokenize>, line 10)",
     "output_type": "error",
     "traceback": [
      "\u001b[1;36m  File \u001b[1;32m\"<tokenize>\"\u001b[1;36m, line \u001b[1;32m10\u001b[0m\n\u001b[1;33m    print(dictSelf[key])\u001b[0m\n\u001b[1;37m    ^\u001b[0m\n\u001b[1;31mIndentationError\u001b[0m\u001b[1;31m:\u001b[0m unindent does not match any outer indentation level\n"
     ]
    }
   ],
   "source": [
    "dictSelf={\n",
    "    'Name':'Arslan', \n",
    "    'Father Name':'M.Asif', \n",
    "    'Roll No.':55472,\n",
    "    'Batch': 3\n",
    "}\n",
    "key=input('Enter Your Batch No.')\n",
    "if key in dictSelf.keys():\n",
    "      print(\"Key is present and value of the key is:\")\n",
    "    print(dictSelf[key])\n",
    "else:\n",
    "      print('Key isnt present in the dictionary!')"
   ]
  },
  {
   "cell_type": "code",
   "execution_count": 73,
   "metadata": {},
   "outputs": [
    {
     "name": "stdout",
     "output_type": "stream",
     "text": [
      "Enter Your Batch No.3\n",
      "Key isnt present in the dictionary!\n"
     ]
    }
   ],
   "source": [
    "dictSelf={\n",
    "    'Name':'Arslan', \n",
    "    'Father Name':'M.Asif', \n",
    "    'Roll No.':55472,\n",
    "    'Batch': 3\n",
    "}\n",
    "key=input('Enter Your Batch No.')\n",
    "if key in dictSelf.keys():\n",
    "    print(\"Key is present and value of the key is:\")\n",
    "    print(dictSelf[key])\n",
    "else:\n",
    "    print('Key isnt present in the dictionary!')"
   ]
  },
  {
   "cell_type": "code",
   "execution_count": 90,
   "metadata": {},
   "outputs": [
    {
     "name": "stdout",
     "output_type": "stream",
     "text": [
      "Enter Your Batch No.Batch\n",
      "Key is present and value of the key is:\n",
      "3\n"
     ]
    }
   ],
   "source": [
    "dictSelf={\n",
    "    'Name':'Arslan', \n",
    "    'Father Name':'M.Asif', \n",
    "    'Roll No.':55472,\n",
    "    'Batch': 3\n",
    "}\n",
    "key=input('Enter Your Batch No.')\n",
    "if key in dictSelf.keys():\n",
    "    print(\"Key is present and value of the key is:\")\n",
    "    print(dictSelf[key])\n",
    "else:\n",
    "    print('Key isnt present in the dictionary!')"
   ]
  },
  {
   "cell_type": "markdown",
   "metadata": {},
   "source": [
    "# Task 4"
   ]
  },
  {
   "cell_type": "code",
   "execution_count": null,
   "metadata": {},
   "outputs": [],
   "source": []
  },
  {
   "cell_type": "markdown",
   "metadata": {},
   "source": [
    "# Task 5"
   ]
  },
  {
   "cell_type": "code",
   "execution_count": 77,
   "metadata": {},
   "outputs": [
    {
     "ename": "SyntaxError",
     "evalue": "invalid syntax (<ipython-input-77-fa4a7b7177be>, line 2)",
     "output_type": "error",
     "traceback": [
      "\u001b[1;36m  File \u001b[1;32m\"<ipython-input-77-fa4a7b7177be>\"\u001b[1;36m, line \u001b[1;32m2\u001b[0m\n\u001b[1;33m    sum(myDict3.values):\u001b[0m\n\u001b[1;37m                        ^\u001b[0m\n\u001b[1;31mSyntaxError\u001b[0m\u001b[1;31m:\u001b[0m invalid syntax\n"
     ]
    }
   ],
   "source": [
    "myDict3 = {'A':10, 'B':33, 'C':87, 'D':48, 'E':79}\n",
    "sum(myDict3.values):\n",
    "    print(sum)"
   ]
  },
  {
   "cell_type": "code",
   "execution_count": 78,
   "metadata": {},
   "outputs": [
    {
     "ename": "SyntaxError",
     "evalue": "invalid syntax (<ipython-input-78-6c4c101ff319>, line 2)",
     "output_type": "error",
     "traceback": [
      "\u001b[1;36m  File \u001b[1;32m\"<ipython-input-78-6c4c101ff319>\"\u001b[1;36m, line \u001b[1;32m2\u001b[0m\n\u001b[1;33m    sum(myDict3.values()):\u001b[0m\n\u001b[1;37m                          ^\u001b[0m\n\u001b[1;31mSyntaxError\u001b[0m\u001b[1;31m:\u001b[0m invalid syntax\n"
     ]
    }
   ],
   "source": [
    "myDict3 = {'A':10, 'B':33, 'C':87, 'D':48, 'E':79}\n",
    "sum(myDict3.values()):\n",
    "    "
   ]
  },
  {
   "cell_type": "code",
   "execution_count": 79,
   "metadata": {},
   "outputs": [
    {
     "ename": "SyntaxError",
     "evalue": "invalid syntax (<ipython-input-79-f80d43c8d5d3>, line 3)",
     "output_type": "error",
     "traceback": [
      "\u001b[1;36m  File \u001b[1;32m\"<ipython-input-79-f80d43c8d5d3>\"\u001b[1;36m, line \u001b[1;32m3\u001b[0m\n\u001b[1;33m    print('Total sum of values in the dictionary:'total)\u001b[0m\n\u001b[1;37m                                                      ^\u001b[0m\n\u001b[1;31mSyntaxError\u001b[0m\u001b[1;31m:\u001b[0m invalid syntax\n"
     ]
    }
   ],
   "source": [
    "myDict3 = {'A':10, 'B':33, 'C':87, 'D':48, 'E':79}\n",
    "total = sum(myDict3.values())\n",
    "print('Total sum of values in the dictionary:'total)\n"
   ]
  },
  {
   "cell_type": "code",
   "execution_count": 80,
   "metadata": {},
   "outputs": [
    {
     "name": "stdout",
     "output_type": "stream",
     "text": [
      "Total sum of values in the dictionary: 257\n"
     ]
    }
   ],
   "source": [
    "myDict3 = {'A':10, 'B':33, 'C':87, 'D':48, 'E':79}\n",
    "total = sum(myDict3.values())\n",
    "print('Total sum of values in the dictionary:',total)\n"
   ]
  },
  {
   "cell_type": "markdown",
   "metadata": {},
   "source": [
    "# Task 6"
   ]
  },
  {
   "cell_type": "code",
   "execution_count": 84,
   "metadata": {},
   "outputs": [
    {
     "name": "stdout",
     "output_type": "stream",
     "text": [
      "The multiplication of all items is: EEEEEEEEEEEEEEEEEEEEEEEEEEEEEEEEEEEEEEEEEEEEEEEEEEEEEEEEEEEEEEEEEEEEEEEEEEEEEEE\n"
     ]
    }
   ],
   "source": [
    "myDict3 = {'A':10, 'B':33, 'C':87, 'D':48, 'E':79}\n",
    "total = 1\n",
    "for total in myDict3:    \n",
    "    total=total*myDict3[total]\n",
    "print('The multiplication of all items is:',total)"
   ]
  },
  {
   "cell_type": "code",
   "execution_count": 86,
   "metadata": {},
   "outputs": [
    {
     "ename": "TypeError",
     "evalue": "string indices must be integers",
     "output_type": "error",
     "traceback": [
      "\u001b[1;31m---------------------------------------------------------------------------\u001b[0m",
      "\u001b[1;31mTypeError\u001b[0m                                 Traceback (most recent call last)",
      "\u001b[1;32m<ipython-input-86-bbde80ab57f6>\u001b[0m in \u001b[0;36m<module>\u001b[1;34m\u001b[0m\n\u001b[0;32m      2\u001b[0m \u001b[0mtotal\u001b[0m \u001b[1;33m=\u001b[0m \u001b[1;36m1\u001b[0m\u001b[1;33m\u001b[0m\u001b[1;33m\u001b[0m\u001b[0m\n\u001b[0;32m      3\u001b[0m \u001b[1;32mfor\u001b[0m \u001b[0mtotal\u001b[0m \u001b[1;32min\u001b[0m \u001b[0mmyDict3\u001b[0m\u001b[1;33m:\u001b[0m\u001b[1;33m\u001b[0m\u001b[1;33m\u001b[0m\u001b[0m\n\u001b[1;32m----> 4\u001b[1;33m     \u001b[0mmyDict3\u001b[0m\u001b[1;33m=\u001b[0m\u001b[0mtotal\u001b[0m\u001b[1;33m*\u001b[0m\u001b[0mmyDict3\u001b[0m\u001b[1;33m[\u001b[0m\u001b[0mtotal\u001b[0m\u001b[1;33m]\u001b[0m\u001b[1;33m\u001b[0m\u001b[1;33m\u001b[0m\u001b[0m\n\u001b[0m\u001b[0;32m      5\u001b[0m \u001b[0mprint\u001b[0m\u001b[1;33m(\u001b[0m\u001b[1;34m'The multiplication of all items is:'\u001b[0m\u001b[1;33m,\u001b[0m\u001b[0mtotal\u001b[0m\u001b[1;33m)\u001b[0m\u001b[1;33m\u001b[0m\u001b[1;33m\u001b[0m\u001b[0m\n",
      "\u001b[1;31mTypeError\u001b[0m: string indices must be integers"
     ]
    }
   ],
   "source": [
    "myDict3 = {'A':10, 'B':33, 'C':87, 'D':48, 'E':79}\n",
    "total = 1\n",
    "for total in myDict3:    \n",
    "    myDict3=total*myDict3[total]\n",
    "print('The multiplication of all items is:',total)"
   ]
  },
  {
   "cell_type": "code",
   "execution_count": 89,
   "metadata": {},
   "outputs": [
    {
     "ename": "SyntaxError",
     "evalue": "invalid syntax (<ipython-input-89-46784c78d45e>, line 3)",
     "output_type": "error",
     "traceback": [
      "\u001b[1;36m  File \u001b[1;32m\"<ipython-input-89-46784c78d45e>\"\u001b[1;36m, line \u001b[1;32m3\u001b[0m\n\u001b[1;33m    'B': int(input('Enter Second No.'))\u001b[0m\n\u001b[1;37m      ^\u001b[0m\n\u001b[1;31mSyntaxError\u001b[0m\u001b[1;31m:\u001b[0m invalid syntax\n"
     ]
    }
   ],
   "source": [
    "myDict3 = {\n",
    "    'A': int(input('Enter First No.'))\n",
    "    'B': int(input('Enter Second No.'))\n",
    "    'C': int(input('Enter Third No.'))\n",
    "    'D': int(input('Enter Fourth No.'))\n",
    "    'E': int(input('Enter Fifth No.'))\n",
    "}\n",
    "total = 1\n",
    "for multiply in myDict3:    \n",
    "    total=total*myDict3[multiply]\n",
    "print('The multiplication of all items is:',total)"
   ]
  },
  {
   "cell_type": "code",
   "execution_count": null,
   "metadata": {},
   "outputs": [],
   "source": []
  },
  {
   "cell_type": "code",
   "execution_count": null,
   "metadata": {},
   "outputs": [],
   "source": []
  },
  {
   "cell_type": "code",
   "execution_count": null,
   "metadata": {},
   "outputs": [],
   "source": []
  },
  {
   "cell_type": "code",
   "execution_count": 87,
   "metadata": {},
   "outputs": [
    {
     "name": "stdout",
     "output_type": "stream",
     "text": [
      "The multiplication of all items is: 108868320\n"
     ]
    }
   ],
   "source": [
    "myDict3 = {'A':10, 'B':33, 'C':87, 'D':48, 'E':79}\n",
    "total = 1\n",
    "for multiply in myDict3:    \n",
    "    total=total*myDict3[multiply]\n",
    "print('The multiplication of all items is:',total)"
   ]
  },
  {
   "cell_type": "markdown",
   "metadata": {},
   "source": [
    "# Task 7"
   ]
  },
  {
   "cell_type": "code",
   "execution_count": null,
   "metadata": {},
   "outputs": [],
   "source": [
    "myDict5 = {'A':4, 'B':2, 'C':8, 'D':7, 'E':5}\n",
    "\n",
    "key=input('Enter the Key to delete:')\n",
    "if key in myDict5.keys():\n",
    "    del.myDict5.keys()\n",
    "else:\n",
    "    print('Key not found!')"
   ]
  },
  {
   "cell_type": "code",
   "execution_count": null,
   "metadata": {},
   "outputs": [],
   "source": [
    "myDict5 = {'A':4, 'B':2, 'C':8, 'D':7, 'E':5}\n",
    "\n",
    "key=input('Enter the Key to delete:')\n",
    "if key in myDict5.keys():\n",
    "    del.myDict5[key]\n",
    "else:\n",
    "    print('Key not found!')"
   ]
  },
  {
   "cell_type": "code",
   "execution_count": null,
   "metadata": {},
   "outputs": [],
   "source": [
    "myDict5 = {'A':4, 'B':2, 'C':8, 'D':7, 'E':5}\n",
    "\n",
    "key=input('Enter the Key to delete:')\n",
    "if key in myDict5.keys():\n",
    "    myDict5.remove[key]\n",
    "else:\n",
    "    print('Key isnt present in the dictionary!')"
   ]
  },
  {
   "cell_type": "code",
   "execution_count": null,
   "metadata": {},
   "outputs": [],
   "source": [
    "myDict5 = {'A':4, 'B':2, 'C':8, 'D':7, 'E':5}\n",
    "\n",
    "key=input('Enter the Key to delete:')\n",
    "if chk in myDict5.keys():\n",
    "    myDict5.remove[key]\n",
    "else:\n",
    "    print('Key not found!')"
   ]
  },
  {
   "cell_type": "code",
   "execution_count": null,
   "metadata": {},
   "outputs": [],
   "source": [
    "myDict5 = {'a':4, 'b':2, 'c':8, 'd':7, 'e':5}\n",
    "\n",
    "key=input('Enter the Key to delete:')\n",
    "if key in myDict5.keys():\n",
    "    myDict5.remove[key]\n",
    "else:\n",
    "    print('Key not found!')"
   ]
  },
  {
   "cell_type": "code",
   "execution_count": null,
   "metadata": {},
   "outputs": [],
   "source": [
    "myDict5 = {'a':4, 'b':2, 'c':8, 'd':7, 'e':5}\n",
    "\n",
    "key=input('Enter the Key to delete:')\n",
    "if key in myDict5.keys():\n",
    "    myDict5.remove\n",
    "else:\n",
    "    print('Key not found!')"
   ]
  },
  {
   "cell_type": "code",
   "execution_count": null,
   "metadata": {},
   "outputs": [],
   "source": []
  }
 ],
 "metadata": {
  "kernelspec": {
   "display_name": "Python 3",
   "language": "python",
   "name": "python3"
  },
  "language_info": {
   "codemirror_mode": {
    "name": "ipython",
    "version": 3
   },
   "file_extension": ".py",
   "mimetype": "text/x-python",
   "name": "python",
   "nbconvert_exporter": "python",
   "pygments_lexer": "ipython3",
   "version": "3.7.4"
  }
 },
 "nbformat": 4,
 "nbformat_minor": 2
}
